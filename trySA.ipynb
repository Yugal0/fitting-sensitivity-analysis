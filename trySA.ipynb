{
 "cells": [
  {
   "cell_type": "code",
   "execution_count": 39,
   "metadata": {},
   "outputs": [],
   "source": [
    "import numpy as np\n",
    "import matplotlib.pyplot as plt\n",
    "\n",
    "from SALib.sample import saltelli\n",
    "from SALib.analyze import sobol"
   ]
  },
  {
   "cell_type": "code",
   "execution_count": 45,
   "metadata": {},
   "outputs": [],
   "source": [
    "def parabola(x,a,b):\n",
    "    return np.real(a+np.tanh(1j*b)*x**2)"
   ]
  },
  {
   "cell_type": "code",
   "execution_count": 46,
   "metadata": {},
   "outputs": [],
   "source": [
    "problem ={\n",
    "    'num_vars': 2,\n",
    "    'names': ['a','b'],\n",
    "    'bounds': [[0,2]]*2\n",
    "}"
   ]
  },
  {
   "cell_type": "code",
   "execution_count": 47,
   "metadata": {},
   "outputs": [
    {
     "name": "stdout",
     "output_type": "stream",
     "text": [
      "Sobol Indices\n"
     ]
    },
    {
     "name": "stderr",
     "output_type": "stream",
     "text": [
      "C:\\Users\\admin\\AppData\\Local\\Temp\\ipykernel_27092\\1678471485.py:2: DeprecationWarning: `salib.sample.saltelli` will be removed in SALib 1.5. Please use `salib.sample.sobol`\n",
      "  param_values = saltelli.sample(problem, 2**6)\n"
     ]
    }
   ],
   "source": [
    "# sample\n",
    "param_values = saltelli.sample(problem, 2**6)\n",
    "\n",
    "# print(param_values)\n",
    "\n",
    "# evaluate\n",
    "x = np.linspace(-1, 1, 100)\n",
    "y = np.array([parabola(x, *params) for params in param_values])\n",
    "\n",
    "# print(param_values.shape)\n",
    "# print(y.shape)\n",
    "# print(y)\n",
    "# analyse\n",
    "sobol_indices = [sobol.analyze(problem, Y) for Y in y.T]\n",
    "\n",
    "print(\"Sobol Indices\")\n",
    "# print(sobol_indices)"
   ]
  },
  {
   "cell_type": "code",
   "execution_count": 48,
   "metadata": {},
   "outputs": [
    {
     "name": "stderr",
     "output_type": "stream",
     "text": [
      "C:\\Users\\admin\\AppData\\Local\\Temp\\ipykernel_27092\\820760329.py:40: UserWarning: The figure layout has changed to tight\n",
      "  plt.tight_layout()\n"
     ]
    },
    {
     "data": {
      "image/png": "[encoded data removed]",
      "text/plain": [
       "<Figure size 1000x600 with 2 Axes>"
      ]
     },
     "metadata": {},
     "output_type": "display_data"
    }
   ],
   "source": [
    "S1s = np.array([s['S1'] for s in sobol_indices])\n",
    "\n",
    "fig = plt.figure(figsize=(10, 6), constrained_layout=True)\n",
    "gs = fig.add_gridspec(2, 2)\n",
    "\n",
    "# ax0 = fig.add_subplot(gs[:, 0])\n",
    "ax0 = fig.add_subplot(gs[0, 0])\n",
    "ax1 = fig.add_subplot(gs[0, 1])\n",
    "# ax2 = fig.add_subplot(gs[1, 1])\n",
    "\n",
    "for i, ax in enumerate([ax0, ax1]):\n",
    "    ax.plot(x, S1s[:, i],\n",
    "            label=r'S1$_\\mathregular{{{}}}$'.format(problem[\"names\"][i]),\n",
    "            color='black')\n",
    "    ax.set_xlabel(\"x\")\n",
    "    ax.set_ylabel(\"First-order Sobol index\")\n",
    "\n",
    "    ax.set_ylim(0, 1.04)\n",
    "\n",
    "    ax.yaxis.set_label_position(\"right\")\n",
    "    ax.yaxis.tick_right()\n",
    "\n",
    "    ax.legend(loc='upper right')\n",
    "\n",
    "# ax0.plot(x, np.mean(y, axis=0), label=\"Mean\", color='black')\n",
    "\n",
    "# # in percent\n",
    "# prediction_interval = 95\n",
    "\n",
    "# ax0.fill_between(x,\n",
    "#                  np.percentile(y, 50 - prediction_interval/2., axis=0),\n",
    "#                  np.percentile(y, 50 + prediction_interval/2., axis=0),\n",
    "#                  alpha=0.5, color='black',\n",
    "#                  label=f\"{prediction_interval} % prediction interval\")\n",
    "\n",
    "# ax0.set_xlabel(\"x\")\n",
    "# ax0.set_ylabel(\"y\")\n",
    "# ax0.legend(title=r\"$y=a+b\\cdot x^2$\",\n",
    "#            loc='upper center')._legend_box.align = \"left\"\n",
    "plt.tight_layout()\n",
    "fig.savefig(\"sobol.png\",dpi=500)\n",
    "plt.show()"
   ]
  },
  {
   "cell_type": "code",
   "execution_count": 49,
   "metadata": {},
   "outputs": [],
   "source": [
    "# print(sobol_indices)"
   ]
  }
 ],
 "metadata": {
  "kernelspec": {
   "display_name": "Python 3",
   "language": "python",
   "name": "python3"
  },
  "language_info": {
   "codemirror_mode": {
    "name": "ipython",
    "version": 3
   },
   "file_extension": ".py",
   "mimetype": "text/x-python",
   "name": "python",
   "nbconvert_exporter": "python",
   "pygments_lexer": "ipython3",
   "version": "3.10.11"
  }
 },
 "nbformat": 4,
 "nbformat_minor": 2
}
