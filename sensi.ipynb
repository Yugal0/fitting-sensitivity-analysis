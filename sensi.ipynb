{
 "cells": [
  {
   "cell_type": "code",
   "execution_count": 2,
   "metadata": {},
   "outputs": [],
   "source": [
    "from impedance.models.circuits.elements import element\n",
    "from impedance.models.circuits import CustomCircuit\n",
    "import numpy as np\n",
    "import scipy\n",
    "import matplotlib.pyplot as plt\n",
    "from mpmath import *\n",
    "from models import *"
   ]
  },
  {
   "cell_type": "code",
   "execution_count": 81,
   "metadata": {},
   "outputs": [
    {
     "name": "stderr",
     "output_type": "stream",
     "text": [
      "c:\\Users\\Gaming\\AppData\\Local\\Programs\\Python\\Python311\\Lib\\site-packages\\impedance\\models\\circuits\\circuits.py:145: UserWarning: Simulating circuit based on initial parameters\n",
      "  warnings.warn(\"Simulating circuit based on initial parameters\")\n"
     ]
    }
   ],
   "source": [
    "R1=1000\n",
    "R2=2000\n",
    "Q=6e-4\n",
    "delta1=0.1\n",
    "alpha=0.9\n",
    "\n",
    "# R1, R1Q, R2Q, delta1, alpha = 1000, 1000*1e-4, 2000*1e-4, 0.4, 1\n",
    "\n",
    "param_to_sim=[R1, R1*Q, R2*Q, delta1, alpha]\n",
    "c_sim_two=CustomCircuit(initial_guess=param_to_sim,circuit=\"TLMtwo\")\n",
    "\n",
    "freq=np.logspace(0,3,100)\n",
    "\n",
    "z_sim_two=c_sim_two.predict(frequencies=freq)\n",
    "# plt.plot(np.real(z_sim_two),-np.imag(z_sim_two))\n",
    "# plt.gca().set_aspect(\"equal\")"
   ]
  },
  {
   "cell_type": "code",
   "execution_count": 86,
   "metadata": {},
   "outputs": [],
   "source": [
    "param_to_fit=[R1*1.5, R1*Q*1.5, R2*Q*1.7, 0.7, alpha]\n",
    "c_fit_two=CustomCircuit(initial_guess=param_to_fit,circuit=\"TLMtwo\")\n",
    "c_fit_two.fit(impedance=z_sim_two,frequencies=freq,bounds=((0,0,0,0,0.5),(np.inf,np.inf,np.inf,1,1)))\n",
    "\n",
    "R1_fit=c_fit_two.parameters_[0]\n",
    "Q_fit=c_fit_two.parameters_[1]/c_fit_two.parameters_[0]\n",
    "R2_fit=c_fit_two.parameters_[2]/Q_fit\n",
    "delta1_fit=c_fit_two.parameters_[3]\n",
    "alpha_fit=c_fit_two.parameters_[4]"
   ]
  },
  {
   "cell_type": "code",
   "execution_count": 87,
   "metadata": {},
   "outputs": [
    {
     "name": "stdout",
     "output_type": "stream",
     "text": [
      "\n",
      "Circuit string: TLMtwo\n",
      "Fit: True\n",
      "\n",
      "Initial guesses:\n",
      "  TLMtwo_0 = 1.50e+03 [Ohm]\n",
      "  TLMtwo_1 = 9.00e-01 [Ohm F]\n",
      "  TLMtwo_2 = 2.04e+00 [Ohm F]\n",
      "  TLMtwo_3 = 7.00e-01 []\n",
      "  TLMtwo_4 = 9.00e-01 []\n",
      "\n",
      "Fit parameters:\n",
      "  TLMtwo_0 = 1.88e+03  (+/- 1.55e+02) [Ohm]\n",
      "  TLMtwo_1 = 1.07e+00  (+/- 1.80e-01) [Ohm F]\n",
      "  TLMtwo_2 = 3.06e+02  (+/- 4.77e+02) [Ohm F]\n",
      "  TLMtwo_3 = 9.60e-01  (+/- 5.05e-02) []\n",
      "  TLMtwo_4 = 1.00e+00  (+/- 1.51e-03) []\n",
      "\n"
     ]
    }
   ],
   "source": [
    "print(c_fit_two)"
   ]
  },
  {
   "cell_type": "code",
   "execution_count": 88,
   "metadata": {},
   "outputs": [
    {
     "data": {
      "text/plain": [
       "<matplotlib.legend.Legend at 0x2051d2b5990>"
      ]
     },
     "execution_count": 88,
     "metadata": {},
     "output_type": "execute_result"
    },
    {
     "data": {
      "image/png": "[encoded data removed]",
      "text/plain": [
       "<Figure size 640x480 with 1 Axes>"
      ]
     },
     "metadata": {},
     "output_type": "display_data"
    }
   ],
   "source": [
    "fig, ax=plt.subplots()\n",
    "x=np.linspace(0,1)\n",
    "#plot the original data R1 and R2 values\n",
    "ax.plot([0,delta1,delta1,1],[R1,R1,R2,R2],linewidth=3)\n",
    "\n",
    "#plot the fitted R1 and R2 values\n",
    "ax.plot([0,delta1_fit,delta1_fit,1],[R1_fit,R1_fit,R2_fit,R2_fit],linestyle=\"--\")\n",
    "\n",
    "ax.set_xlabel(\"x\")\n",
    "ax.set_ylabel(\"$R1 or R2$\")\n",
    "ax.set_xmargin(0)\n",
    "ax.legend([\"Data\",\"Fit\"])"
   ]
  }
 ],
 "metadata": {
  "kernelspec": {
   "display_name": "Python 3",
   "language": "python",
   "name": "python3"
  },
  "language_info": {
   "codemirror_mode": {
    "name": "ipython",
    "version": 3
   },
   "file_extension": ".py",
   "mimetype": "text/x-python",
   "name": "python",
   "nbconvert_exporter": "python",
   "pygments_lexer": "ipython3",
   "version": "3.11.4"
  }
 },
 "nbformat": 4,
 "nbformat_minor": 2
}
