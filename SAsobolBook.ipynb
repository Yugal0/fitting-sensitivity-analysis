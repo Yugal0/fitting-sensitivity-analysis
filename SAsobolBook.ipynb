{
 "cells": [
  {
   "cell_type": "code",
   "execution_count": 1,
   "metadata": {},
   "outputs": [],
   "source": [
    "import numpy as np"
   ]
  },
  {
   "cell_type": "code",
   "execution_count": 2,
   "metadata": {},
   "outputs": [],
   "source": [
    "def fun(param):\n",
    "    a=param[:,0]\n",
    "    b=param[:,1]\n",
    "    c=param[:,2]\n",
    "    d=param[:,3]\n",
    "    return a*b*c*d"
   ]
  },
  {
   "cell_type": "code",
   "execution_count": 3,
   "metadata": {},
   "outputs": [],
   "source": [
    "#ranges for variables\n",
    "a_high=0\n",
    "a_low=1\n",
    "b_high=0\n",
    "b_low=1"
   ]
  },
  {
   "cell_type": "code",
   "execution_count": 4,
   "metadata": {},
   "outputs": [],
   "source": [
    "#number of samples\n",
    "num_var=4\n",
    "#num sample\n",
    "N=100000\n",
    "mat_A=np.zeros((N,num_var))\n",
    "mat_B=np.zeros((N,num_var))\n",
    "mat_C=np.zeros((N,num_var))\n",
    "# mat_A.shape[0]\n",
    "\n",
    "S=np.zeros((num_var))"
   ]
  },
  {
   "cell_type": "code",
   "execution_count": 5,
   "metadata": {},
   "outputs": [
    {
     "name": "stdout",
     "output_type": "stream",
     "text": [
      "[0.42278928 0.56379729 0.75241539 1.        ]\n"
     ]
    }
   ],
   "source": [
    "# mat_A=np.array([[],[]])\n",
    "for i in range(mat_A.shape[0]):\n",
    "    mat_A[i]=np.random.rand(num_var)\n",
    "    mat_B[i]=np.random.rand(num_var)\n",
    "\n",
    "#calculate index for var no. 1 i.e. \"a\" in this case\n",
    "for j in range(num_var):\n",
    "    mat_C=mat_B\n",
    "    mat_C[:,j]=mat_A[:,j]   \n",
    "    ya=fun(mat_A)\n",
    "    yb=fun(mat_B)\n",
    "    yc=fun(mat_C)\n",
    "\n",
    "    f0=np.sum(ya)/N\n",
    "    S[j]=(np.dot(ya,yc)-f0**2)/(np.dot(ya,ya)-f0**2)\n",
    "\n",
    "print(S)"
   ]
  },
  {
   "cell_type": "code",
   "execution_count": 6,
   "metadata": {},
   "outputs": [
    {
     "data": {
      "text/plain": [
       "25"
      ]
     },
     "execution_count": 6,
     "metadata": {},
     "output_type": "execute_result"
    }
   ],
   "source": [
    "np.dot([2,4,5],[1,2,3])"
   ]
  }
 ],
 "metadata": {
  "kernelspec": {
   "display_name": "Python 3",
   "language": "python",
   "name": "python3"
  },
  "language_info": {
   "codemirror_mode": {
    "name": "ipython",
    "version": 3
   },
   "file_extension": ".py",
   "mimetype": "text/x-python",
   "name": "python",
   "nbconvert_exporter": "python",
   "pygments_lexer": "ipython3",
   "version": "3.11.4"
  }
 },
 "nbformat": 4,
 "nbformat_minor": 2
}
