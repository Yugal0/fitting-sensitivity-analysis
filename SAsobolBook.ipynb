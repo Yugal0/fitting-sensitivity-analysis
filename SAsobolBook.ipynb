{
 "cells": [
  {
   "cell_type": "code",
   "execution_count": 4,
   "metadata": {},
   "outputs": [],
   "source": [
    "import numpy as np"
   ]
  },
  {
   "cell_type": "code",
   "execution_count": 5,
   "metadata": {},
   "outputs": [],
   "source": [
    "def fun(a,b):\n",
    "    return a+b"
   ]
  },
  {
   "cell_type": "code",
   "execution_count": 6,
   "metadata": {},
   "outputs": [],
   "source": [
    "#ranges for variables\n",
    "a_high=0\n",
    "a_low=1\n",
    "b_high=0\n",
    "b_low=1"
   ]
  },
  {
   "cell_type": "code",
   "execution_count": 36,
   "metadata": {},
   "outputs": [],
   "source": [
    "#number of samples\n",
    "num_var=2\n",
    "num_sample=100\n",
    "mat_A=np.zeros((num_sample,num_var))\n",
    "mat_B=np.zeros((num_sample,num_var))\n",
    "mat_C=np.zeros((num_sample,num_var))\n",
    "# mat_A.shape[0]"
   ]
  },
  {
   "cell_type": "code",
   "execution_count": 37,
   "metadata": {},
   "outputs": [],
   "source": [
    "# mat_A=np.array([[],[]])\n",
    "for i in range(mat_A.shape[0]):\n",
    "    mat_A[i]=np.random.rand(2)\n",
    "    mat_B[i]=np.random.rand(2)\n",
    "\n",
    "#calculate index for var no. 1 i.e. \"a\" in this case\n",
    "mat_C=mat_B\n",
    "mat_C[:,0]=mat_A[:,0]\n",
    "\n",
    "ya=np.zeros\n"
   ]
  }
 ],
 "metadata": {
  "kernelspec": {
   "display_name": "Python 3",
   "language": "python",
   "name": "python3"
  },
  "language_info": {
   "codemirror_mode": {
    "name": "ipython",
    "version": 3
   },
   "file_extension": ".py",
   "mimetype": "text/x-python",
   "name": "python",
   "nbconvert_exporter": "python",
   "pygments_lexer": "ipython3",
   "version": "3.10.11"
  }
 },
 "nbformat": 4,
 "nbformat_minor": 2
}
