{
 "cells": [
  {
   "cell_type": "code",
   "execution_count": 4,
   "metadata": {},
   "outputs": [],
   "source": [
    "import numpy as np"
   ]
  },
  {
   "cell_type": "code",
   "execution_count": 44,
   "metadata": {},
   "outputs": [],
   "source": [
    "def fun(param):\n",
    "    return param[:,0]+param[:,1]"
   ]
  },
  {
   "cell_type": "code",
   "execution_count": 45,
   "metadata": {},
   "outputs": [],
   "source": [
    "#ranges for variables\n",
    "a_high=0\n",
    "a_low=1\n",
    "b_high=0\n",
    "b_low=1"
   ]
  },
  {
   "cell_type": "code",
   "execution_count": 46,
   "metadata": {},
   "outputs": [],
   "source": [
    "#number of samples\n",
    "num_var=2\n",
    "num_sample=100\n",
    "mat_A=np.zeros((num_sample,num_var))\n",
    "mat_B=np.zeros((num_sample,num_var))\n",
    "mat_C=np.zeros((num_sample,num_var))\n",
    "# mat_A.shape[0]"
   ]
  },
  {
   "cell_type": "code",
   "execution_count": 47,
   "metadata": {},
   "outputs": [
    {
     "data": {
      "text/plain": [
       "array([1.41191125, 0.42901769, 1.2673035 , 1.35087098, 1.1216366 ,\n",
       "       1.00817377, 0.92227995, 1.02878831, 1.1796693 , 0.34135763,\n",
       "       1.8792227 , 0.859924  , 0.56657522, 1.14438704, 0.54678646,\n",
       "       0.9578271 , 1.71392546, 1.40800752, 1.83473033, 0.54259482,\n",
       "       1.03171627, 1.6540549 , 0.46518439, 0.78817651, 1.37155653,\n",
       "       1.32099579, 1.41162426, 0.59587384, 0.72448114, 0.9400036 ,\n",
       "       0.94777781, 1.851432  , 1.70171985, 0.93320392, 1.51454244,\n",
       "       0.60202195, 0.67124598, 0.59869049, 0.83683212, 1.25719912,\n",
       "       1.20851765, 0.91278494, 1.40156837, 1.04713059, 1.49048975,\n",
       "       0.57655993, 0.76097749, 0.96356365, 0.83425491, 1.44076575,\n",
       "       1.24465848, 0.86212809, 1.41043663, 1.03023978, 0.95578234,\n",
       "       1.0171835 , 0.18072632, 1.46481662, 1.00594882, 0.86502034,\n",
       "       0.20728074, 0.57687141, 1.82954743, 1.7484455 , 0.49614074,\n",
       "       1.33334239, 1.14945079, 0.95274584, 1.05138835, 0.19020004,\n",
       "       1.49638926, 1.43187066, 1.61902818, 1.56734137, 0.67303235,\n",
       "       1.40784098, 0.49988986, 1.1496164 , 1.46476739, 1.6761845 ,\n",
       "       1.77746535, 0.45436661, 0.6628849 , 1.25025798, 0.74812369,\n",
       "       0.32310529, 1.3367076 , 1.08200086, 0.99862308, 1.18059407,\n",
       "       1.24447757, 0.70010922, 1.10630138, 0.31042367, 1.55520569,\n",
       "       1.24063034, 0.5804784 , 0.96747378, 1.0434882 , 0.91849235])"
      ]
     },
     "execution_count": 47,
     "metadata": {},
     "output_type": "execute_result"
    }
   ],
   "source": [
    "# mat_A=np.array([[],[]])\n",
    "for i in range(mat_A.shape[0]):\n",
    "    mat_A[i]=np.random.rand(2)\n",
    "    mat_B[i]=np.random.rand(2)\n",
    "\n",
    "#calculate index for var no. 1 i.e. \"a\" in this case\n",
    "for j in [0,1]:\n",
    "   mat_C=mat_B\n",
    "   mat_C[:,j]=mat_A[:,j]\n",
    "\n",
    "   ya=fun(mat_A)\n",
    "   yb=fun(mat_B)\n",
    "   yc=fun(mat_C)\n",
    "\n",
    "\n",
    "\n"
   ]
  }
 ],
 "metadata": {
  "kernelspec": {
   "display_name": "Python 3",
   "language": "python",
   "name": "python3"
  },
  "language_info": {
   "codemirror_mode": {
    "name": "ipython",
    "version": 3
   },
   "file_extension": ".py",
   "mimetype": "text/x-python",
   "name": "python",
   "nbconvert_exporter": "python",
   "pygments_lexer": "ipython3",
   "version": "3.10.11"
  }
 },
 "nbformat": 4,
 "nbformat_minor": 2
}
